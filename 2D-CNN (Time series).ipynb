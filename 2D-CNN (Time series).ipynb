{
 "cells": [
  {
   "cell_type": "code",
   "execution_count": null,
   "metadata": {
    "colab": {
     "base_uri": "https://localhost:8080/",
     "height": 54
    },
    "colab_type": "code",
    "id": "Rbh8jA-_qd_x",
    "outputId": "17d5b3d2-9d96-4e17-caa2-c1fff0c8f183"
   },
   "outputs": [],
   "source": [
    "train = data_no[0 : 3200]\n",
    "test = data_no[3200 : 3200 + 960]"
   ]
  },
  {
   "cell_type": "code",
   "execution_count": null,
   "metadata": {
    "colab": {},
    "colab_type": "code",
    "id": "QfAGdegjqd_2"
   },
   "outputs": [],
   "source": [
    "# Normalization\n",
    "\n",
    "sc1 = MinMaxScaler()\n",
    "sc2 = MinMaxScaler()\n",
    "\n",
    "tr_norm = sc1.fit_transform(train)\n",
    "ts_norm = sc2.fit_transform(test)"
   ]
  },
  {
   "cell_type": "code",
   "execution_count": null,
   "metadata": {
    "colab": {},
    "colab_type": "code",
    "id": "c4cAY-l6qd_6"
   },
   "outputs": [],
   "source": [
    "xtr_norm = np.delete(tr_norm,4,1)\n",
    "ytr_norm = tr_norm[:,4:5]\n",
    "\n",
    "xts_norm = np.delete(ts_norm,4,1)\n",
    "yts_norm = ts_norm[:,4:5]"
   ]
  },
  {
   "cell_type": "code",
   "execution_count": null,
   "metadata": {
    "colab": {
     "base_uri": "https://localhost:8080/",
     "height": 36
    },
    "colab_type": "code",
    "id": "0BysH-u8qeAE",
    "outputId": "e9f9a64d-a1af-4d08-ced4-3a7ff2cc43df"
   },
   "outputs": [],
   "source": [
    "transformer = GramianAngularField(image_size = 18, method = 'difference')\n",
    "g_xtrain = transformer.transform(xtr_norm)\n",
    "g_xtest = transformer.transform(xts_norm)"
   ]
  },
  {
   "cell_type": "code",
   "execution_count": 0,
   "metadata": {
    "colab": {},
    "colab_type": "code",
    "id": "g7QVnLD5qeAJ",
    "outputId": "f662eb49-066b-44a7-bc21-4dc545c8322d"
   },
   "outputs": [
    {
     "data": {
      "text/plain": [
       "<matplotlib.colorbar.Colorbar at 0x1dc74c88>"
      ]
     },
     "execution_count": 24,
     "metadata": {
      "tags": []
     },
     "output_type": "execute_result"
    },
    {
     "data": {
      "image/png": "[encoded data removed]",
      "text/plain": [
       "<Figure size 432x288 with 2 Axes>"
      ]
     },
     "metadata": {
      "needs_background": "light",
      "tags": []
     },
     "output_type": "display_data"
    }
   ],
   "source": [
    "im = plt.imshow(g_xtrain[0], cmap='rainbow', origin='lower')\n",
    "plt.colorbar(im)"
   ]
  },
  {
   "cell_type": "code",
   "execution_count": null,
   "metadata": {
    "colab": {
     "base_uri": "https://localhost:8080/",
     "height": 54
    },
    "colab_type": "code",
    "id": "zbbJCC4_qeAN",
    "outputId": "d452902e-5f01-4b5a-86a7-42b65d1cd2bc"
   },
   "outputs": [],
   "source": [
    "gxtrain = np.reshape(g_xtrain, (-1,18,18,1))\n",
    "gxtest = np.reshape(g_xtest, (-1,18,18,1))\n",
    "print(gxtrain.shape)\n",
    "print(gxtest.shape)"
   ]
  },
  {
   "cell_type": "code",
   "execution_count": null,
   "metadata": {
    "colab": {
     "base_uri": "https://localhost:8080/",
     "height": 618
    },
    "colab_type": "code",
    "id": "lf-Sd8cMtaTB",
    "outputId": "c5615bd4-276b-4945-879a-667a95c90147",
    "scrolled": true
   },
   "outputs": [],
   "source": [
    "batch_size = 32\n",
    "n_features = 18\n",
    "n_output = 1\n",
    "\n",
    "input_shape=(n_features, n_features, 1)\n",
    "\n",
    "train = DataFrame()\n",
    "val = DataFrame()\n",
    "\n",
    "for i in range(1):\n",
    "    model = Sequential()\n",
    "    model.add(Conv2D(filters=8, kernel_size=(2, 2), strides=(1, 1), activation='relu', input_shape=input_shape))\n",
    "    model.add(Conv2D(filters=8, kernel_size=(2, 2), strides=(1, 1), activation='relu'))\n",
    "    model.add(AveragePooling2D(pool_size=(2,2)))\n",
    "    model.add(Flatten())\n",
    "    model.add(Dense(32, activation='relu'))\n",
    "    model.add(Dense(n_output, activation='relu'))\n",
    "\n",
    "    optimizer = keras.optimizers.Adam(lr=0.001, beta_1=0.9, beta_2=0.999, amsgrad=False)\n",
    "    model.compile(optimizer=optimizer, loss = 'mean_squared_error', metrics=['mean_squared_error'])\n",
    "    history = model.fit(gxtrain, ytr_norm, epochs = 15, batch_size = batch_size, validation_split = 0.2, verbose = 1, shuffle=False)\n",
    "    model.reset_states()\n",
    "    train = history.history['loss']\n",
    "    val = history.history['val_loss']\n",
    "\n"
   ]
  }
 ],
 "metadata": {
  "accelerator": "GPU",
  "colab": {
   "collapsed_sections": [],
   "name": "CNN2D-sp.ipynb",
   "provenance": [],
   "toc_visible": true
  },
  "kernelspec": {
   "display_name": "Python 3",
   "language": "python",
   "name": "python3"
  },
  "language_info": {
   "codemirror_mode": {
    "name": "ipython",
    "version": 3
   },
   "file_extension": ".py",
   "mimetype": "text/x-python",
   "name": "python",
   "nbconvert_exporter": "python",
   "pygments_lexer": "ipython3",
   "version": "3.7.4"
  }
 },
 "nbformat": 4,
 "nbformat_minor": 1
}
